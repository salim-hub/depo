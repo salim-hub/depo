{
 "cells": [
  {
   "cell_type": "code",
   "execution_count": 1,
   "id": "b295afce",
   "metadata": {},
   "outputs": [],
   "source": [
    "import numpy as np #Numpy'ı Dahil Edin"
   ]
  },
  {
   "cell_type": "code",
   "execution_count": 5,
   "id": "f81a9dfe",
   "metadata": {},
   "outputs": [
    {
     "data": {
      "text/plain": [
       "array([1., 1., 1., 1., 1.])"
      ]
     },
     "execution_count": 5,
     "metadata": {},
     "output_type": "execute_result"
    }
   ],
   "source": [
    "np.ones(5) #5 tane 1 barındıran bir array oluşturun"
   ]
  },
  {
   "cell_type": "code",
   "execution_count": 6,
   "id": "809215ed",
   "metadata": {},
   "outputs": [
    {
     "data": {
      "text/plain": [
       "array([0., 0., 0., 0., 0.])"
      ]
     },
     "execution_count": 6,
     "metadata": {},
     "output_type": "execute_result"
    }
   ],
   "source": [
    "np.zeros(5) #5 tane 0 barındıran bir array oluşturun"
   ]
  },
  {
   "cell_type": "code",
   "execution_count": 7,
   "id": "53d1b165",
   "metadata": {},
   "outputs": [
    {
     "data": {
      "text/plain": [
       "array([ 2,  4,  6,  8, 10, 12, 14, 16, 18, 20, 22, 24, 26, 28, 30, 32, 34,\n",
       "       36, 38, 40, 42, 44, 46, 48, 50, 52, 54, 56, 58, 60, 62, 64, 66, 68,\n",
       "       70, 72, 74, 76, 78, 80, 82, 84, 86, 88, 90, 92, 94, 96, 98])"
      ]
     },
     "execution_count": 7,
     "metadata": {},
     "output_type": "execute_result"
    }
   ],
   "source": [
    "np.arange(2,100,2) #2'den 100'e kadar olan değerlerden 2'ye tam bölünebilenlerle bir array oluşturun"
   ]
  },
  {
   "cell_type": "code",
   "execution_count": 19,
   "id": "d9f9fb03",
   "metadata": {},
   "outputs": [],
   "source": [
    "arr_ten = np.arange(1,6)#5 tane 10 bulunan bir array oluşturun"
   ]
  },
  {
   "cell_type": "code",
   "execution_count": 20,
   "id": "f75d9f82",
   "metadata": {},
   "outputs": [],
   "source": [
    "arr_ten[:6] = 10"
   ]
  },
  {
   "cell_type": "code",
   "execution_count": 21,
   "id": "fe9b13ce",
   "metadata": {},
   "outputs": [
    {
     "data": {
      "text/plain": [
       "array([10, 10, 10, 10, 10])"
      ]
     },
     "execution_count": 21,
     "metadata": {},
     "output_type": "execute_result"
    }
   ],
   "source": [
    "arr_ten"
   ]
  },
  {
   "cell_type": "code",
   "execution_count": 34,
   "id": "59db8064",
   "metadata": {},
   "outputs": [
    {
     "data": {
      "text/plain": [
       "array([10., 10., 10., 10., 10.])"
      ]
     },
     "execution_count": 34,
     "metadata": {},
     "output_type": "execute_result"
    }
   ],
   "source": [
    "np.ones(5) * 10 #Kısa yolu "
   ]
  },
  {
   "cell_type": "code",
   "execution_count": null,
   "id": "b640baa1",
   "metadata": {},
   "outputs": [],
   "source": [
    "#1'den 16'ya kadar değer bulunduran 4x4'lük bir matris oluşturun"
   ]
  },
  {
   "cell_type": "code",
   "execution_count": 23,
   "id": "ef2aed9e",
   "metadata": {},
   "outputs": [],
   "source": [
    "arr2 = np.arange(1,17)"
   ]
  },
  {
   "cell_type": "code",
   "execution_count": 24,
   "id": "e4a0ee9f",
   "metadata": {},
   "outputs": [
    {
     "data": {
      "text/plain": [
       "array([ 1,  2,  3,  4,  5,  6,  7,  8,  9, 10, 11, 12, 13, 14, 15, 16])"
      ]
     },
     "execution_count": 24,
     "metadata": {},
     "output_type": "execute_result"
    }
   ],
   "source": [
    "arr2"
   ]
  },
  {
   "cell_type": "code",
   "execution_count": 26,
   "id": "c5264efd",
   "metadata": {},
   "outputs": [
    {
     "data": {
      "text/plain": [
       "array([[ 1,  2,  3,  4],\n",
       "       [ 5,  6,  7,  8],\n",
       "       [ 9, 10, 11, 12],\n",
       "       [13, 14, 15, 16]])"
      ]
     },
     "execution_count": 26,
     "metadata": {},
     "output_type": "execute_result"
    }
   ],
   "source": [
    "arr2.reshape(4,4)"
   ]
  },
  {
   "cell_type": "code",
   "execution_count": 35,
   "id": "a3b0a77d",
   "metadata": {},
   "outputs": [
    {
     "data": {
      "text/plain": [
       "array([[ 1,  2,  3,  4],\n",
       "       [ 5,  6,  7,  8],\n",
       "       [ 9, 10, 11, 12],\n",
       "       [13, 14, 15, 16]])"
      ]
     },
     "execution_count": 35,
     "metadata": {},
     "output_type": "execute_result"
    }
   ],
   "source": [
    "np.arange(1,17).reshape(4,4)  #Kısa yolu "
   ]
  },
  {
   "cell_type": "code",
   "execution_count": 27,
   "id": "1332aa8b",
   "metadata": {},
   "outputs": [],
   "source": [
    "#4x4'lük bir birim matris oluşturun"
   ]
  },
  {
   "cell_type": "code",
   "execution_count": 28,
   "id": "f9c348f2",
   "metadata": {},
   "outputs": [
    {
     "data": {
      "text/plain": [
       "array([[1., 0., 0., 0.],\n",
       "       [0., 1., 0., 0.],\n",
       "       [0., 0., 1., 0.],\n",
       "       [0., 0., 0., 1.]])"
      ]
     },
     "execution_count": 28,
     "metadata": {},
     "output_type": "execute_result"
    }
   ],
   "source": [
    "np.eye(4)"
   ]
  },
  {
   "cell_type": "code",
   "execution_count": null,
   "id": "6254e0fc",
   "metadata": {},
   "outputs": [],
   "source": []
  },
  {
   "cell_type": "code",
   "execution_count": 29,
   "id": "c4c4066b",
   "metadata": {},
   "outputs": [],
   "source": [
    "#0 ile 5 arasında rastgele değerler üretin"
   ]
  },
  {
   "cell_type": "code",
   "execution_count": 30,
   "id": "f07dffda",
   "metadata": {},
   "outputs": [
    {
     "data": {
      "text/plain": [
       "2"
      ]
     },
     "execution_count": 30,
     "metadata": {},
     "output_type": "execute_result"
    }
   ],
   "source": [
    "np.random.randint(0,5)"
   ]
  },
  {
   "cell_type": "code",
   "execution_count": 36,
   "id": "4f8bd756",
   "metadata": {},
   "outputs": [
    {
     "data": {
      "text/plain": [
       "1.855719049878965"
      ]
     },
     "execution_count": 36,
     "metadata": {},
     "output_type": "execute_result"
    }
   ],
   "source": [
    "np.random.rand() * 5 #diğer yol"
   ]
  },
  {
   "cell_type": "code",
   "execution_count": null,
   "id": "7499d1ec",
   "metadata": {},
   "outputs": [],
   "source": [
    "#5 x 5'lik bir matrisi Gaussian Distribution'a Göre (randn() fonksiyonu) değerler üreterek oluşturun"
   ]
  },
  {
   "cell_type": "code",
   "execution_count": 37,
   "id": "c3b6664b",
   "metadata": {},
   "outputs": [
    {
     "data": {
      "text/plain": [
       "array([[-1.13816539, -0.66819582,  1.31549121,  0.53664101, -0.77165074],\n",
       "       [ 0.64948254, -0.35135385,  1.03740143,  0.12045757, -0.36718909],\n",
       "       [-0.5377502 ,  1.08286813, -0.33079686, -0.04056788,  0.97000905],\n",
       "       [ 1.42609281, -0.40855747, -1.37137642, -0.34238192,  0.09415317],\n",
       "       [-0.21516152,  0.21182971, -0.91166134,  1.45681884,  1.2792125 ]])"
      ]
     },
     "execution_count": 37,
     "metadata": {},
     "output_type": "execute_result"
    }
   ],
   "source": [
    "np.random.randn(5,5).reshape(5,5)"
   ]
  },
  {
   "cell_type": "code",
   "execution_count": null,
   "id": "0f39490e",
   "metadata": {},
   "outputs": [],
   "source": []
  },
  {
   "cell_type": "code",
   "execution_count": null,
   "id": "2032855d",
   "metadata": {},
   "outputs": [],
   "source": [
    "#1 ile 5 arasındaki mesafeyi eşit parçalara bölerek 20'lik bir array oluşturun"
   ]
  },
  {
   "cell_type": "code",
   "execution_count": 38,
   "id": "7761496e",
   "metadata": {},
   "outputs": [
    {
     "data": {
      "text/plain": [
       "array([1.        , 1.21052632, 1.42105263, 1.63157895, 1.84210526,\n",
       "       2.05263158, 2.26315789, 2.47368421, 2.68421053, 2.89473684,\n",
       "       3.10526316, 3.31578947, 3.52631579, 3.73684211, 3.94736842,\n",
       "       4.15789474, 4.36842105, 4.57894737, 4.78947368, 5.        ])"
      ]
     },
     "execution_count": 38,
     "metadata": {},
     "output_type": "execute_result"
    }
   ],
   "source": [
    "np.linspace(1,5,20)"
   ]
  },
  {
   "cell_type": "code",
   "execution_count": null,
   "id": "2d4d0dea",
   "metadata": {},
   "outputs": [],
   "source": []
  },
  {
   "cell_type": "code",
   "execution_count": null,
   "id": "09de6047",
   "metadata": {},
   "outputs": [],
   "source": []
  },
  {
   "cell_type": "code",
   "execution_count": null,
   "id": "2ed7d7ef",
   "metadata": {},
   "outputs": [],
   "source": []
  },
  {
   "cell_type": "code",
   "execution_count": null,
   "id": "3d518470",
   "metadata": {},
   "outputs": [],
   "source": []
  },
  {
   "cell_type": "code",
   "execution_count": null,
   "id": "755b4ab6",
   "metadata": {},
   "outputs": [],
   "source": []
  },
  {
   "cell_type": "code",
   "execution_count": null,
   "id": "ee21a4e1",
   "metadata": {},
   "outputs": [],
   "source": []
  },
  {
   "cell_type": "code",
   "execution_count": null,
   "id": "1122dbce",
   "metadata": {},
   "outputs": [],
   "source": []
  },
  {
   "cell_type": "code",
   "execution_count": null,
   "id": "c448407b",
   "metadata": {},
   "outputs": [],
   "source": []
  },
  {
   "cell_type": "code",
   "execution_count": null,
   "id": "ca69d43b",
   "metadata": {},
   "outputs": [],
   "source": []
  },
  {
   "cell_type": "code",
   "execution_count": null,
   "id": "7dd012f2",
   "metadata": {},
   "outputs": [],
   "source": []
  }
 ],
 "metadata": {
  "kernelspec": {
   "display_name": "Python 3 (ipykernel)",
   "language": "python",
   "name": "python3"
  },
  "language_info": {
   "codemirror_mode": {
    "name": "ipython",
    "version": 3
   },
   "file_extension": ".py",
   "mimetype": "text/x-python",
   "name": "python",
   "nbconvert_exporter": "python",
   "pygments_lexer": "ipython3",
   "version": "3.8.11"
  }
 },
 "nbformat": 4,
 "nbformat_minor": 5
}

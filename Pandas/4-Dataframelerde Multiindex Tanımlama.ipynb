{
 "cells": [
  {
   "cell_type": "code",
   "execution_count": 1,
   "id": "1c9aee8b",
   "metadata": {},
   "outputs": [],
   "source": [
    "import numpy as np\n",
    "import pandas as pd\n",
    "from numpy.random import randn"
   ]
  },
  {
   "cell_type": "code",
   "execution_count": 2,
   "id": "7282ea9c",
   "metadata": {},
   "outputs": [],
   "source": [
    "outerIndex = [\"Group1\", \"Group1\", \"Group1\", \"Group2\", \"Group2\", \"Group2\", \"Group3\", \"Group3\", \"Group3\"]"
   ]
  },
  {
   "cell_type": "code",
   "execution_count": 3,
   "id": "ba09e79f",
   "metadata": {},
   "outputs": [],
   "source": [
    "innerIndex = [\"Index1\", \"Index2\", \"Index3\", \"Index1\", \"Index2\", \"Index3\", \"Index1\", \"Index2\", \"Index3\"]"
   ]
  },
  {
   "cell_type": "code",
   "execution_count": 5,
   "id": "4dc0a88f",
   "metadata": {},
   "outputs": [
    {
     "data": {
      "text/plain": [
       "[('Group1', 'Index1'),\n",
       " ('Group1', 'Index2'),\n",
       " ('Group1', 'Index3'),\n",
       " ('Group2', 'Index1'),\n",
       " ('Group2', 'Index2'),\n",
       " ('Group2', 'Index3'),\n",
       " ('Group3', 'Index1'),\n",
       " ('Group3', 'Index2'),\n",
       " ('Group3', 'Index3')]"
      ]
     },
     "execution_count": 5,
     "metadata": {},
     "output_type": "execute_result"
    }
   ],
   "source": [
    "list(zip(outerIndex,innerIndex))"
   ]
  },
  {
   "cell_type": "code",
   "execution_count": 6,
   "id": "67258702",
   "metadata": {},
   "outputs": [],
   "source": [
    "hierarchy = list(zip(outerIndex, innerIndex))"
   ]
  },
  {
   "cell_type": "code",
   "execution_count": 9,
   "id": "ee1d20dc",
   "metadata": {},
   "outputs": [],
   "source": [
    "hierarchy = pd.MultiIndex.from_tuples(hierarchy)"
   ]
  },
  {
   "cell_type": "code",
   "execution_count": 10,
   "id": "bd433462",
   "metadata": {},
   "outputs": [
    {
     "data": {
      "text/plain": [
       "MultiIndex([('Group1', 'Index1'),\n",
       "            ('Group1', 'Index2'),\n",
       "            ('Group1', 'Index3'),\n",
       "            ('Group2', 'Index1'),\n",
       "            ('Group2', 'Index2'),\n",
       "            ('Group2', 'Index3'),\n",
       "            ('Group3', 'Index1'),\n",
       "            ('Group3', 'Index2'),\n",
       "            ('Group3', 'Index3')],\n",
       "           )"
      ]
     },
     "execution_count": 10,
     "metadata": {},
     "output_type": "execute_result"
    }
   ],
   "source": [
    "hierarchy"
   ]
  },
  {
   "cell_type": "code",
   "execution_count": 14,
   "id": "afcf11dd",
   "metadata": {},
   "outputs": [],
   "source": [
    "df = pd.DataFrame(randn(9,3), hierarchy, columns = [\"Column1\", \"Column2\",\"Column3\"])"
   ]
  },
  {
   "cell_type": "code",
   "execution_count": 15,
   "id": "c2f428ac",
   "metadata": {},
   "outputs": [
    {
     "data": {
      "text/html": [
       "<div>\n",
       "<style scoped>\n",
       "    .dataframe tbody tr th:only-of-type {\n",
       "        vertical-align: middle;\n",
       "    }\n",
       "\n",
       "    .dataframe tbody tr th {\n",
       "        vertical-align: top;\n",
       "    }\n",
       "\n",
       "    .dataframe thead th {\n",
       "        text-align: right;\n",
       "    }\n",
       "</style>\n",
       "<table border=\"1\" class=\"dataframe\">\n",
       "  <thead>\n",
       "    <tr style=\"text-align: right;\">\n",
       "      <th></th>\n",
       "      <th></th>\n",
       "      <th>Column1</th>\n",
       "      <th>Column2</th>\n",
       "      <th>Column3</th>\n",
       "    </tr>\n",
       "  </thead>\n",
       "  <tbody>\n",
       "    <tr>\n",
       "      <th rowspan=\"3\" valign=\"top\">Group1</th>\n",
       "      <th>Index1</th>\n",
       "      <td>-0.987581</td>\n",
       "      <td>-0.522661</td>\n",
       "      <td>-0.871246</td>\n",
       "    </tr>\n",
       "    <tr>\n",
       "      <th>Index2</th>\n",
       "      <td>1.902818</td>\n",
       "      <td>-1.650181</td>\n",
       "      <td>1.113948</td>\n",
       "    </tr>\n",
       "    <tr>\n",
       "      <th>Index3</th>\n",
       "      <td>-0.113607</td>\n",
       "      <td>0.773795</td>\n",
       "      <td>-1.707313</td>\n",
       "    </tr>\n",
       "    <tr>\n",
       "      <th rowspan=\"3\" valign=\"top\">Group2</th>\n",
       "      <th>Index1</th>\n",
       "      <td>-0.616003</td>\n",
       "      <td>-1.144931</td>\n",
       "      <td>-1.547340</td>\n",
       "    </tr>\n",
       "    <tr>\n",
       "      <th>Index2</th>\n",
       "      <td>1.436745</td>\n",
       "      <td>-0.268975</td>\n",
       "      <td>0.835511</td>\n",
       "    </tr>\n",
       "    <tr>\n",
       "      <th>Index3</th>\n",
       "      <td>0.765659</td>\n",
       "      <td>1.174398</td>\n",
       "      <td>0.781010</td>\n",
       "    </tr>\n",
       "    <tr>\n",
       "      <th rowspan=\"3\" valign=\"top\">Group3</th>\n",
       "      <th>Index1</th>\n",
       "      <td>-0.060821</td>\n",
       "      <td>2.851500</td>\n",
       "      <td>-0.147617</td>\n",
       "    </tr>\n",
       "    <tr>\n",
       "      <th>Index2</th>\n",
       "      <td>0.078122</td>\n",
       "      <td>-0.391962</td>\n",
       "      <td>0.027317</td>\n",
       "    </tr>\n",
       "    <tr>\n",
       "      <th>Index3</th>\n",
       "      <td>1.794407</td>\n",
       "      <td>-1.624277</td>\n",
       "      <td>0.494795</td>\n",
       "    </tr>\n",
       "  </tbody>\n",
       "</table>\n",
       "</div>"
      ],
      "text/plain": [
       "                Column1   Column2   Column3\n",
       "Group1 Index1 -0.987581 -0.522661 -0.871246\n",
       "       Index2  1.902818 -1.650181  1.113948\n",
       "       Index3 -0.113607  0.773795 -1.707313\n",
       "Group2 Index1 -0.616003 -1.144931 -1.547340\n",
       "       Index2  1.436745 -0.268975  0.835511\n",
       "       Index3  0.765659  1.174398  0.781010\n",
       "Group3 Index1 -0.060821  2.851500 -0.147617\n",
       "       Index2  0.078122 -0.391962  0.027317\n",
       "       Index3  1.794407 -1.624277  0.494795"
      ]
     },
     "execution_count": 15,
     "metadata": {},
     "output_type": "execute_result"
    }
   ],
   "source": [
    "df"
   ]
  },
  {
   "cell_type": "code",
   "execution_count": 16,
   "id": "32b4448f",
   "metadata": {},
   "outputs": [
    {
     "data": {
      "text/plain": [
       "Group1  Index1   -0.987581\n",
       "        Index2    1.902818\n",
       "        Index3   -0.113607\n",
       "Group2  Index1   -0.616003\n",
       "        Index2    1.436745\n",
       "        Index3    0.765659\n",
       "Group3  Index1   -0.060821\n",
       "        Index2    0.078122\n",
       "        Index3    1.794407\n",
       "Name: Column1, dtype: float64"
      ]
     },
     "execution_count": 16,
     "metadata": {},
     "output_type": "execute_result"
    }
   ],
   "source": [
    "df[\"Column1\"]"
   ]
  },
  {
   "cell_type": "code",
   "execution_count": 17,
   "id": "f1ff939a",
   "metadata": {},
   "outputs": [
    {
     "data": {
      "text/html": [
       "<div>\n",
       "<style scoped>\n",
       "    .dataframe tbody tr th:only-of-type {\n",
       "        vertical-align: middle;\n",
       "    }\n",
       "\n",
       "    .dataframe tbody tr th {\n",
       "        vertical-align: top;\n",
       "    }\n",
       "\n",
       "    .dataframe thead th {\n",
       "        text-align: right;\n",
       "    }\n",
       "</style>\n",
       "<table border=\"1\" class=\"dataframe\">\n",
       "  <thead>\n",
       "    <tr style=\"text-align: right;\">\n",
       "      <th></th>\n",
       "      <th>Column1</th>\n",
       "      <th>Column2</th>\n",
       "      <th>Column3</th>\n",
       "    </tr>\n",
       "  </thead>\n",
       "  <tbody>\n",
       "    <tr>\n",
       "      <th>Index1</th>\n",
       "      <td>-0.987581</td>\n",
       "      <td>-0.522661</td>\n",
       "      <td>-0.871246</td>\n",
       "    </tr>\n",
       "    <tr>\n",
       "      <th>Index2</th>\n",
       "      <td>1.902818</td>\n",
       "      <td>-1.650181</td>\n",
       "      <td>1.113948</td>\n",
       "    </tr>\n",
       "    <tr>\n",
       "      <th>Index3</th>\n",
       "      <td>-0.113607</td>\n",
       "      <td>0.773795</td>\n",
       "      <td>-1.707313</td>\n",
       "    </tr>\n",
       "  </tbody>\n",
       "</table>\n",
       "</div>"
      ],
      "text/plain": [
       "         Column1   Column2   Column3\n",
       "Index1 -0.987581 -0.522661 -0.871246\n",
       "Index2  1.902818 -1.650181  1.113948\n",
       "Index3 -0.113607  0.773795 -1.707313"
      ]
     },
     "execution_count": 17,
     "metadata": {},
     "output_type": "execute_result"
    }
   ],
   "source": [
    "df.loc[\"Group1\"]"
   ]
  },
  {
   "cell_type": "code",
   "execution_count": 18,
   "id": "9b4d1457",
   "metadata": {},
   "outputs": [
    {
     "data": {
      "text/html": [
       "<div>\n",
       "<style scoped>\n",
       "    .dataframe tbody tr th:only-of-type {\n",
       "        vertical-align: middle;\n",
       "    }\n",
       "\n",
       "    .dataframe tbody tr th {\n",
       "        vertical-align: top;\n",
       "    }\n",
       "\n",
       "    .dataframe thead th {\n",
       "        text-align: right;\n",
       "    }\n",
       "</style>\n",
       "<table border=\"1\" class=\"dataframe\">\n",
       "  <thead>\n",
       "    <tr style=\"text-align: right;\">\n",
       "      <th></th>\n",
       "      <th>Column1</th>\n",
       "      <th>Column2</th>\n",
       "      <th>Column3</th>\n",
       "    </tr>\n",
       "  </thead>\n",
       "  <tbody>\n",
       "    <tr>\n",
       "      <th>Index1</th>\n",
       "      <td>-0.616003</td>\n",
       "      <td>-1.144931</td>\n",
       "      <td>-1.547340</td>\n",
       "    </tr>\n",
       "    <tr>\n",
       "      <th>Index2</th>\n",
       "      <td>1.436745</td>\n",
       "      <td>-0.268975</td>\n",
       "      <td>0.835511</td>\n",
       "    </tr>\n",
       "    <tr>\n",
       "      <th>Index3</th>\n",
       "      <td>0.765659</td>\n",
       "      <td>1.174398</td>\n",
       "      <td>0.781010</td>\n",
       "    </tr>\n",
       "  </tbody>\n",
       "</table>\n",
       "</div>"
      ],
      "text/plain": [
       "         Column1   Column2   Column3\n",
       "Index1 -0.616003 -1.144931 -1.547340\n",
       "Index2  1.436745 -0.268975  0.835511\n",
       "Index3  0.765659  1.174398  0.781010"
      ]
     },
     "execution_count": 18,
     "metadata": {},
     "output_type": "execute_result"
    }
   ],
   "source": [
    "df.loc[\"Group2\"]"
   ]
  },
  {
   "cell_type": "code",
   "execution_count": 19,
   "id": "4fe07e24",
   "metadata": {},
   "outputs": [
    {
     "data": {
      "text/html": [
       "<div>\n",
       "<style scoped>\n",
       "    .dataframe tbody tr th:only-of-type {\n",
       "        vertical-align: middle;\n",
       "    }\n",
       "\n",
       "    .dataframe tbody tr th {\n",
       "        vertical-align: top;\n",
       "    }\n",
       "\n",
       "    .dataframe thead th {\n",
       "        text-align: right;\n",
       "    }\n",
       "</style>\n",
       "<table border=\"1\" class=\"dataframe\">\n",
       "  <thead>\n",
       "    <tr style=\"text-align: right;\">\n",
       "      <th></th>\n",
       "      <th></th>\n",
       "      <th>Column1</th>\n",
       "      <th>Column2</th>\n",
       "      <th>Column3</th>\n",
       "    </tr>\n",
       "  </thead>\n",
       "  <tbody>\n",
       "    <tr>\n",
       "      <th rowspan=\"3\" valign=\"top\">Group1</th>\n",
       "      <th>Index1</th>\n",
       "      <td>-0.987581</td>\n",
       "      <td>-0.522661</td>\n",
       "      <td>-0.871246</td>\n",
       "    </tr>\n",
       "    <tr>\n",
       "      <th>Index2</th>\n",
       "      <td>1.902818</td>\n",
       "      <td>-1.650181</td>\n",
       "      <td>1.113948</td>\n",
       "    </tr>\n",
       "    <tr>\n",
       "      <th>Index3</th>\n",
       "      <td>-0.113607</td>\n",
       "      <td>0.773795</td>\n",
       "      <td>-1.707313</td>\n",
       "    </tr>\n",
       "    <tr>\n",
       "      <th rowspan=\"3\" valign=\"top\">Group2</th>\n",
       "      <th>Index1</th>\n",
       "      <td>-0.616003</td>\n",
       "      <td>-1.144931</td>\n",
       "      <td>-1.547340</td>\n",
       "    </tr>\n",
       "    <tr>\n",
       "      <th>Index2</th>\n",
       "      <td>1.436745</td>\n",
       "      <td>-0.268975</td>\n",
       "      <td>0.835511</td>\n",
       "    </tr>\n",
       "    <tr>\n",
       "      <th>Index3</th>\n",
       "      <td>0.765659</td>\n",
       "      <td>1.174398</td>\n",
       "      <td>0.781010</td>\n",
       "    </tr>\n",
       "  </tbody>\n",
       "</table>\n",
       "</div>"
      ],
      "text/plain": [
       "                Column1   Column2   Column3\n",
       "Group1 Index1 -0.987581 -0.522661 -0.871246\n",
       "       Index2  1.902818 -1.650181  1.113948\n",
       "       Index3 -0.113607  0.773795 -1.707313\n",
       "Group2 Index1 -0.616003 -1.144931 -1.547340\n",
       "       Index2  1.436745 -0.268975  0.835511\n",
       "       Index3  0.765659  1.174398  0.781010"
      ]
     },
     "execution_count": 19,
     "metadata": {},
     "output_type": "execute_result"
    }
   ],
   "source": [
    "df.loc[[\"Group1\", \"Group2\"]]"
   ]
  },
  {
   "cell_type": "code",
   "execution_count": 22,
   "id": "3e911cc1",
   "metadata": {},
   "outputs": [
    {
     "data": {
      "text/html": [
       "<div>\n",
       "<style scoped>\n",
       "    .dataframe tbody tr th:only-of-type {\n",
       "        vertical-align: middle;\n",
       "    }\n",
       "\n",
       "    .dataframe tbody tr th {\n",
       "        vertical-align: top;\n",
       "    }\n",
       "\n",
       "    .dataframe thead th {\n",
       "        text-align: right;\n",
       "    }\n",
       "</style>\n",
       "<table border=\"1\" class=\"dataframe\">\n",
       "  <thead>\n",
       "    <tr style=\"text-align: right;\">\n",
       "      <th></th>\n",
       "      <th>Column1</th>\n",
       "      <th>Column2</th>\n",
       "      <th>Column3</th>\n",
       "    </tr>\n",
       "  </thead>\n",
       "  <tbody>\n",
       "    <tr>\n",
       "      <th>Index1</th>\n",
       "      <td>-0.987581</td>\n",
       "      <td>-0.522661</td>\n",
       "      <td>-0.871246</td>\n",
       "    </tr>\n",
       "    <tr>\n",
       "      <th>Index2</th>\n",
       "      <td>1.902818</td>\n",
       "      <td>-1.650181</td>\n",
       "      <td>1.113948</td>\n",
       "    </tr>\n",
       "    <tr>\n",
       "      <th>Index3</th>\n",
       "      <td>-0.113607</td>\n",
       "      <td>0.773795</td>\n",
       "      <td>-1.707313</td>\n",
       "    </tr>\n",
       "  </tbody>\n",
       "</table>\n",
       "</div>"
      ],
      "text/plain": [
       "         Column1   Column2   Column3\n",
       "Index1 -0.987581 -0.522661 -0.871246\n",
       "Index2  1.902818 -1.650181  1.113948\n",
       "Index3 -0.113607  0.773795 -1.707313"
      ]
     },
     "execution_count": 22,
     "metadata": {},
     "output_type": "execute_result"
    }
   ],
   "source": [
    "df.loc[\"Group1\"]"
   ]
  },
  {
   "cell_type": "code",
   "execution_count": 23,
   "id": "2a5193ae",
   "metadata": {},
   "outputs": [
    {
     "data": {
      "text/plain": [
       "Column1   -0.987581\n",
       "Column2   -0.522661\n",
       "Column3   -0.871246\n",
       "Name: Index1, dtype: float64"
      ]
     },
     "execution_count": 23,
     "metadata": {},
     "output_type": "execute_result"
    }
   ],
   "source": [
    "df.loc[\"Group1\"].loc[\"Index1\"]"
   ]
  },
  {
   "cell_type": "code",
   "execution_count": 24,
   "id": "b704a6b5",
   "metadata": {},
   "outputs": [
    {
     "data": {
      "text/plain": [
       "-0.9875805571404944"
      ]
     },
     "execution_count": 24,
     "metadata": {},
     "output_type": "execute_result"
    }
   ],
   "source": [
    "df.loc[\"Group1\"].loc[\"Index1\"][\"Column1\"]"
   ]
  },
  {
   "cell_type": "code",
   "execution_count": 25,
   "id": "87dbf9eb",
   "metadata": {},
   "outputs": [
    {
     "data": {
      "text/html": [
       "<div>\n",
       "<style scoped>\n",
       "    .dataframe tbody tr th:only-of-type {\n",
       "        vertical-align: middle;\n",
       "    }\n",
       "\n",
       "    .dataframe tbody tr th {\n",
       "        vertical-align: top;\n",
       "    }\n",
       "\n",
       "    .dataframe thead th {\n",
       "        text-align: right;\n",
       "    }\n",
       "</style>\n",
       "<table border=\"1\" class=\"dataframe\">\n",
       "  <thead>\n",
       "    <tr style=\"text-align: right;\">\n",
       "      <th></th>\n",
       "      <th></th>\n",
       "      <th>Column1</th>\n",
       "      <th>Column2</th>\n",
       "      <th>Column3</th>\n",
       "    </tr>\n",
       "  </thead>\n",
       "  <tbody>\n",
       "    <tr>\n",
       "      <th rowspan=\"3\" valign=\"top\">Group1</th>\n",
       "      <th>Index1</th>\n",
       "      <td>-0.987581</td>\n",
       "      <td>-0.522661</td>\n",
       "      <td>-0.871246</td>\n",
       "    </tr>\n",
       "    <tr>\n",
       "      <th>Index2</th>\n",
       "      <td>1.902818</td>\n",
       "      <td>-1.650181</td>\n",
       "      <td>1.113948</td>\n",
       "    </tr>\n",
       "    <tr>\n",
       "      <th>Index3</th>\n",
       "      <td>-0.113607</td>\n",
       "      <td>0.773795</td>\n",
       "      <td>-1.707313</td>\n",
       "    </tr>\n",
       "    <tr>\n",
       "      <th rowspan=\"3\" valign=\"top\">Group2</th>\n",
       "      <th>Index1</th>\n",
       "      <td>-0.616003</td>\n",
       "      <td>-1.144931</td>\n",
       "      <td>-1.547340</td>\n",
       "    </tr>\n",
       "    <tr>\n",
       "      <th>Index2</th>\n",
       "      <td>1.436745</td>\n",
       "      <td>-0.268975</td>\n",
       "      <td>0.835511</td>\n",
       "    </tr>\n",
       "    <tr>\n",
       "      <th>Index3</th>\n",
       "      <td>0.765659</td>\n",
       "      <td>1.174398</td>\n",
       "      <td>0.781010</td>\n",
       "    </tr>\n",
       "    <tr>\n",
       "      <th rowspan=\"3\" valign=\"top\">Group3</th>\n",
       "      <th>Index1</th>\n",
       "      <td>-0.060821</td>\n",
       "      <td>2.851500</td>\n",
       "      <td>-0.147617</td>\n",
       "    </tr>\n",
       "    <tr>\n",
       "      <th>Index2</th>\n",
       "      <td>0.078122</td>\n",
       "      <td>-0.391962</td>\n",
       "      <td>0.027317</td>\n",
       "    </tr>\n",
       "    <tr>\n",
       "      <th>Index3</th>\n",
       "      <td>1.794407</td>\n",
       "      <td>-1.624277</td>\n",
       "      <td>0.494795</td>\n",
       "    </tr>\n",
       "  </tbody>\n",
       "</table>\n",
       "</div>"
      ],
      "text/plain": [
       "                Column1   Column2   Column3\n",
       "Group1 Index1 -0.987581 -0.522661 -0.871246\n",
       "       Index2  1.902818 -1.650181  1.113948\n",
       "       Index3 -0.113607  0.773795 -1.707313\n",
       "Group2 Index1 -0.616003 -1.144931 -1.547340\n",
       "       Index2  1.436745 -0.268975  0.835511\n",
       "       Index3  0.765659  1.174398  0.781010\n",
       "Group3 Index1 -0.060821  2.851500 -0.147617\n",
       "       Index2  0.078122 -0.391962  0.027317\n",
       "       Index3  1.794407 -1.624277  0.494795"
      ]
     },
     "execution_count": 25,
     "metadata": {},
     "output_type": "execute_result"
    }
   ],
   "source": [
    "df"
   ]
  },
  {
   "cell_type": "code",
   "execution_count": 26,
   "id": "a1032bd9",
   "metadata": {},
   "outputs": [
    {
     "data": {
      "text/plain": [
       "FrozenList([None, None])"
      ]
     },
     "execution_count": 26,
     "metadata": {},
     "output_type": "execute_result"
    }
   ],
   "source": [
    "df.index.names"
   ]
  },
  {
   "cell_type": "code",
   "execution_count": 27,
   "id": "ecde33e8",
   "metadata": {},
   "outputs": [],
   "source": [
    "df.index.names = [\"Groups\", \"Indexes\"]"
   ]
  },
  {
   "cell_type": "code",
   "execution_count": 28,
   "id": "15b88391",
   "metadata": {},
   "outputs": [
    {
     "data": {
      "text/html": [
       "<div>\n",
       "<style scoped>\n",
       "    .dataframe tbody tr th:only-of-type {\n",
       "        vertical-align: middle;\n",
       "    }\n",
       "\n",
       "    .dataframe tbody tr th {\n",
       "        vertical-align: top;\n",
       "    }\n",
       "\n",
       "    .dataframe thead th {\n",
       "        text-align: right;\n",
       "    }\n",
       "</style>\n",
       "<table border=\"1\" class=\"dataframe\">\n",
       "  <thead>\n",
       "    <tr style=\"text-align: right;\">\n",
       "      <th></th>\n",
       "      <th></th>\n",
       "      <th>Column1</th>\n",
       "      <th>Column2</th>\n",
       "      <th>Column3</th>\n",
       "    </tr>\n",
       "    <tr>\n",
       "      <th>Groups</th>\n",
       "      <th>Indexes</th>\n",
       "      <th></th>\n",
       "      <th></th>\n",
       "      <th></th>\n",
       "    </tr>\n",
       "  </thead>\n",
       "  <tbody>\n",
       "    <tr>\n",
       "      <th rowspan=\"3\" valign=\"top\">Group1</th>\n",
       "      <th>Index1</th>\n",
       "      <td>-0.987581</td>\n",
       "      <td>-0.522661</td>\n",
       "      <td>-0.871246</td>\n",
       "    </tr>\n",
       "    <tr>\n",
       "      <th>Index2</th>\n",
       "      <td>1.902818</td>\n",
       "      <td>-1.650181</td>\n",
       "      <td>1.113948</td>\n",
       "    </tr>\n",
       "    <tr>\n",
       "      <th>Index3</th>\n",
       "      <td>-0.113607</td>\n",
       "      <td>0.773795</td>\n",
       "      <td>-1.707313</td>\n",
       "    </tr>\n",
       "    <tr>\n",
       "      <th rowspan=\"3\" valign=\"top\">Group2</th>\n",
       "      <th>Index1</th>\n",
       "      <td>-0.616003</td>\n",
       "      <td>-1.144931</td>\n",
       "      <td>-1.547340</td>\n",
       "    </tr>\n",
       "    <tr>\n",
       "      <th>Index2</th>\n",
       "      <td>1.436745</td>\n",
       "      <td>-0.268975</td>\n",
       "      <td>0.835511</td>\n",
       "    </tr>\n",
       "    <tr>\n",
       "      <th>Index3</th>\n",
       "      <td>0.765659</td>\n",
       "      <td>1.174398</td>\n",
       "      <td>0.781010</td>\n",
       "    </tr>\n",
       "    <tr>\n",
       "      <th rowspan=\"3\" valign=\"top\">Group3</th>\n",
       "      <th>Index1</th>\n",
       "      <td>-0.060821</td>\n",
       "      <td>2.851500</td>\n",
       "      <td>-0.147617</td>\n",
       "    </tr>\n",
       "    <tr>\n",
       "      <th>Index2</th>\n",
       "      <td>0.078122</td>\n",
       "      <td>-0.391962</td>\n",
       "      <td>0.027317</td>\n",
       "    </tr>\n",
       "    <tr>\n",
       "      <th>Index3</th>\n",
       "      <td>1.794407</td>\n",
       "      <td>-1.624277</td>\n",
       "      <td>0.494795</td>\n",
       "    </tr>\n",
       "  </tbody>\n",
       "</table>\n",
       "</div>"
      ],
      "text/plain": [
       "                 Column1   Column2   Column3\n",
       "Groups Indexes                              \n",
       "Group1 Index1  -0.987581 -0.522661 -0.871246\n",
       "       Index2   1.902818 -1.650181  1.113948\n",
       "       Index3  -0.113607  0.773795 -1.707313\n",
       "Group2 Index1  -0.616003 -1.144931 -1.547340\n",
       "       Index2   1.436745 -0.268975  0.835511\n",
       "       Index3   0.765659  1.174398  0.781010\n",
       "Group3 Index1  -0.060821  2.851500 -0.147617\n",
       "       Index2   0.078122 -0.391962  0.027317\n",
       "       Index3   1.794407 -1.624277  0.494795"
      ]
     },
     "execution_count": 28,
     "metadata": {},
     "output_type": "execute_result"
    }
   ],
   "source": [
    "df"
   ]
  },
  {
   "cell_type": "code",
   "execution_count": null,
   "id": "570de518",
   "metadata": {},
   "outputs": [],
   "source": []
  },
  {
   "cell_type": "code",
   "execution_count": 29,
   "id": "bbf613c2",
   "metadata": {},
   "outputs": [
    {
     "data": {
      "text/html": [
       "<div>\n",
       "<style scoped>\n",
       "    .dataframe tbody tr th:only-of-type {\n",
       "        vertical-align: middle;\n",
       "    }\n",
       "\n",
       "    .dataframe tbody tr th {\n",
       "        vertical-align: top;\n",
       "    }\n",
       "\n",
       "    .dataframe thead th {\n",
       "        text-align: right;\n",
       "    }\n",
       "</style>\n",
       "<table border=\"1\" class=\"dataframe\">\n",
       "  <thead>\n",
       "    <tr style=\"text-align: right;\">\n",
       "      <th></th>\n",
       "      <th>Column1</th>\n",
       "      <th>Column2</th>\n",
       "      <th>Column3</th>\n",
       "    </tr>\n",
       "    <tr>\n",
       "      <th>Indexes</th>\n",
       "      <th></th>\n",
       "      <th></th>\n",
       "      <th></th>\n",
       "    </tr>\n",
       "  </thead>\n",
       "  <tbody>\n",
       "    <tr>\n",
       "      <th>Index1</th>\n",
       "      <td>-0.987581</td>\n",
       "      <td>-0.522661</td>\n",
       "      <td>-0.871246</td>\n",
       "    </tr>\n",
       "    <tr>\n",
       "      <th>Index2</th>\n",
       "      <td>1.902818</td>\n",
       "      <td>-1.650181</td>\n",
       "      <td>1.113948</td>\n",
       "    </tr>\n",
       "    <tr>\n",
       "      <th>Index3</th>\n",
       "      <td>-0.113607</td>\n",
       "      <td>0.773795</td>\n",
       "      <td>-1.707313</td>\n",
       "    </tr>\n",
       "  </tbody>\n",
       "</table>\n",
       "</div>"
      ],
      "text/plain": [
       "          Column1   Column2   Column3\n",
       "Indexes                              \n",
       "Index1  -0.987581 -0.522661 -0.871246\n",
       "Index2   1.902818 -1.650181  1.113948\n",
       "Index3  -0.113607  0.773795 -1.707313"
      ]
     },
     "execution_count": 29,
     "metadata": {},
     "output_type": "execute_result"
    }
   ],
   "source": [
    "df.loc[\"Group1\"]"
   ]
  },
  {
   "cell_type": "code",
   "execution_count": 30,
   "id": "3fee9bd2",
   "metadata": {},
   "outputs": [
    {
     "data": {
      "text/html": [
       "<div>\n",
       "<style scoped>\n",
       "    .dataframe tbody tr th:only-of-type {\n",
       "        vertical-align: middle;\n",
       "    }\n",
       "\n",
       "    .dataframe tbody tr th {\n",
       "        vertical-align: top;\n",
       "    }\n",
       "\n",
       "    .dataframe thead th {\n",
       "        text-align: right;\n",
       "    }\n",
       "</style>\n",
       "<table border=\"1\" class=\"dataframe\">\n",
       "  <thead>\n",
       "    <tr style=\"text-align: right;\">\n",
       "      <th></th>\n",
       "      <th>Column1</th>\n",
       "      <th>Column2</th>\n",
       "      <th>Column3</th>\n",
       "    </tr>\n",
       "    <tr>\n",
       "      <th>Indexes</th>\n",
       "      <th></th>\n",
       "      <th></th>\n",
       "      <th></th>\n",
       "    </tr>\n",
       "  </thead>\n",
       "  <tbody>\n",
       "    <tr>\n",
       "      <th>Index1</th>\n",
       "      <td>-0.987581</td>\n",
       "      <td>-0.522661</td>\n",
       "      <td>-0.871246</td>\n",
       "    </tr>\n",
       "    <tr>\n",
       "      <th>Index2</th>\n",
       "      <td>1.902818</td>\n",
       "      <td>-1.650181</td>\n",
       "      <td>1.113948</td>\n",
       "    </tr>\n",
       "    <tr>\n",
       "      <th>Index3</th>\n",
       "      <td>-0.113607</td>\n",
       "      <td>0.773795</td>\n",
       "      <td>-1.707313</td>\n",
       "    </tr>\n",
       "  </tbody>\n",
       "</table>\n",
       "</div>"
      ],
      "text/plain": [
       "          Column1   Column2   Column3\n",
       "Indexes                              \n",
       "Index1  -0.987581 -0.522661 -0.871246\n",
       "Index2   1.902818 -1.650181  1.113948\n",
       "Index3  -0.113607  0.773795 -1.707313"
      ]
     },
     "execution_count": 30,
     "metadata": {},
     "output_type": "execute_result"
    }
   ],
   "source": [
    "df.xs(\"Group1\")"
   ]
  },
  {
   "cell_type": "code",
   "execution_count": 31,
   "id": "c865af04",
   "metadata": {},
   "outputs": [
    {
     "data": {
      "text/html": [
       "<div>\n",
       "<style scoped>\n",
       "    .dataframe tbody tr th:only-of-type {\n",
       "        vertical-align: middle;\n",
       "    }\n",
       "\n",
       "    .dataframe tbody tr th {\n",
       "        vertical-align: top;\n",
       "    }\n",
       "\n",
       "    .dataframe thead th {\n",
       "        text-align: right;\n",
       "    }\n",
       "</style>\n",
       "<table border=\"1\" class=\"dataframe\">\n",
       "  <thead>\n",
       "    <tr style=\"text-align: right;\">\n",
       "      <th></th>\n",
       "      <th>Column1</th>\n",
       "      <th>Column2</th>\n",
       "      <th>Column3</th>\n",
       "    </tr>\n",
       "    <tr>\n",
       "      <th>Indexes</th>\n",
       "      <th></th>\n",
       "      <th></th>\n",
       "      <th></th>\n",
       "    </tr>\n",
       "  </thead>\n",
       "  <tbody>\n",
       "    <tr>\n",
       "      <th>Index1</th>\n",
       "      <td>-0.616003</td>\n",
       "      <td>-1.144931</td>\n",
       "      <td>-1.547340</td>\n",
       "    </tr>\n",
       "    <tr>\n",
       "      <th>Index2</th>\n",
       "      <td>1.436745</td>\n",
       "      <td>-0.268975</td>\n",
       "      <td>0.835511</td>\n",
       "    </tr>\n",
       "    <tr>\n",
       "      <th>Index3</th>\n",
       "      <td>0.765659</td>\n",
       "      <td>1.174398</td>\n",
       "      <td>0.781010</td>\n",
       "    </tr>\n",
       "  </tbody>\n",
       "</table>\n",
       "</div>"
      ],
      "text/plain": [
       "          Column1   Column2   Column3\n",
       "Indexes                              \n",
       "Index1  -0.616003 -1.144931 -1.547340\n",
       "Index2   1.436745 -0.268975  0.835511\n",
       "Index3   0.765659  1.174398  0.781010"
      ]
     },
     "execution_count": 31,
     "metadata": {},
     "output_type": "execute_result"
    }
   ],
   "source": [
    "df.xs(\"Group2\")"
   ]
  },
  {
   "cell_type": "code",
   "execution_count": 32,
   "id": "883fdc39",
   "metadata": {},
   "outputs": [
    {
     "data": {
      "text/plain": [
       "Column1   -0.616003\n",
       "Column2   -1.144931\n",
       "Column3   -1.547340\n",
       "Name: Index1, dtype: float64"
      ]
     },
     "execution_count": 32,
     "metadata": {},
     "output_type": "execute_result"
    }
   ],
   "source": [
    "df.xs(\"Group2\").xs(\"Index1\")"
   ]
  },
  {
   "cell_type": "code",
   "execution_count": 33,
   "id": "4988d15a",
   "metadata": {},
   "outputs": [
    {
     "data": {
      "text/plain": [
       "-0.6160028313552618"
      ]
     },
     "execution_count": 33,
     "metadata": {},
     "output_type": "execute_result"
    }
   ],
   "source": [
    "df.xs(\"Group2\").xs(\"Index1\").xs(\"Column1\")"
   ]
  },
  {
   "cell_type": "code",
   "execution_count": null,
   "id": "87207028",
   "metadata": {},
   "outputs": [],
   "source": []
  },
  {
   "cell_type": "code",
   "execution_count": 35,
   "id": "dfa4f652",
   "metadata": {},
   "outputs": [
    {
     "data": {
      "text/html": [
       "<div>\n",
       "<style scoped>\n",
       "    .dataframe tbody tr th:only-of-type {\n",
       "        vertical-align: middle;\n",
       "    }\n",
       "\n",
       "    .dataframe tbody tr th {\n",
       "        vertical-align: top;\n",
       "    }\n",
       "\n",
       "    .dataframe thead th {\n",
       "        text-align: right;\n",
       "    }\n",
       "</style>\n",
       "<table border=\"1\" class=\"dataframe\">\n",
       "  <thead>\n",
       "    <tr style=\"text-align: right;\">\n",
       "      <th></th>\n",
       "      <th>Column1</th>\n",
       "      <th>Column2</th>\n",
       "      <th>Column3</th>\n",
       "    </tr>\n",
       "    <tr>\n",
       "      <th>Groups</th>\n",
       "      <th></th>\n",
       "      <th></th>\n",
       "      <th></th>\n",
       "    </tr>\n",
       "  </thead>\n",
       "  <tbody>\n",
       "    <tr>\n",
       "      <th>Group1</th>\n",
       "      <td>-0.987581</td>\n",
       "      <td>-0.522661</td>\n",
       "      <td>-0.871246</td>\n",
       "    </tr>\n",
       "    <tr>\n",
       "      <th>Group2</th>\n",
       "      <td>-0.616003</td>\n",
       "      <td>-1.144931</td>\n",
       "      <td>-1.547340</td>\n",
       "    </tr>\n",
       "    <tr>\n",
       "      <th>Group3</th>\n",
       "      <td>-0.060821</td>\n",
       "      <td>2.851500</td>\n",
       "      <td>-0.147617</td>\n",
       "    </tr>\n",
       "  </tbody>\n",
       "</table>\n",
       "</div>"
      ],
      "text/plain": [
       "         Column1   Column2   Column3\n",
       "Groups                              \n",
       "Group1 -0.987581 -0.522661 -0.871246\n",
       "Group2 -0.616003 -1.144931 -1.547340\n",
       "Group3 -0.060821  2.851500 -0.147617"
      ]
     },
     "execution_count": 35,
     "metadata": {},
     "output_type": "execute_result"
    }
   ],
   "source": [
    "df.xs(\"Index1\", level=\"Indexes\")"
   ]
  },
  {
   "cell_type": "code",
   "execution_count": null,
   "id": "6700c996",
   "metadata": {},
   "outputs": [],
   "source": []
  }
 ],
 "metadata": {
  "kernelspec": {
   "display_name": "Python 3 (ipykernel)",
   "language": "python",
   "name": "python3"
  },
  "language_info": {
   "codemirror_mode": {
    "name": "ipython",
    "version": 3
   },
   "file_extension": ".py",
   "mimetype": "text/x-python",
   "name": "python",
   "nbconvert_exporter": "python",
   "pygments_lexer": "ipython3",
   "version": "3.8.11"
  }
 },
 "nbformat": 4,
 "nbformat_minor": 5
}
